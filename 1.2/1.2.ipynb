{
 "cells": [
  {
   "cell_type": "code",
   "execution_count": 1,
   "metadata": {},
   "outputs": [],
   "source": [
    "import numpy as np\n",
    "import seaborn as sns\n",
    "import pandas as pd\n",
    "import timeit\n",
    "import matplotlib.pyplot as plt\n",
    "from numba import jit\n",
    "from scipy.stats import t\n",
    "from scipy.stats import norm\n",
    "from scipy.stats import multivariate_normal\n",
    "from mpl_toolkits import mplot3d\n",
    "from scipy.special import gamma\n",
    "from sklearn.neighbors import KernelDensity \n",
    "from sklearn.model_selection import GridSearchCV"
   ]
  },
  {
   "cell_type": "code",
   "execution_count": 2,
   "metadata": {},
   "outputs": [],
   "source": [
    "@jit\n",
    "def ratio(x,mu,sigma,df,c):\n",
    "    return t.pdf(x,df)/(c*norm.pdf(x,mu,sigma)) \n",
    "\n",
    "@jit\n",
    "def rejection_sampling1(L,c,mu,sigma,df):\n",
    "    y=np.zeros(L)\n",
    "    i=0\n",
    "    j=0\n",
    "    while i<L:\n",
    "        j+=1\n",
    "        x=np.random.normal(mu,sigma,1)\n",
    "        if np.random.uniform(0,1,1)<=ratio(x,mu,sigma,df,c):\n",
    "            y[i]=x\n",
    "            i+=1  \n",
    "    return y,j        \n",
    "\n",
    "@jit\n",
    "def rejection_sampling2(L,c,mu,sigma,df):\n",
    "    y=np.zeros(L)\n",
    "    i=j=0\n",
    "    while i<L:\n",
    "        j+=1\n",
    "        x=np.random.normal(mu,sigma,1)\n",
    "        if np.random.uniform(0,1,1)<=ratio(x,mu,sigma,df,c):\n",
    "            y[i]=x\n",
    "            c_star=np.maximum(c,c*ratio(x,mu,sigma,df,c))\n",
    "            c=c_star\n",
    "            i+=1  \n",
    "    return y,c,j \n",
    "\n",
    "@jit\n",
    "def sup_norm(y,z,z_min,z_max):\n",
    "    grid = GridSearchCV(KernelDensity(),{'bandwidth': np.linspace(0.1, 1.0, 30)},cv=10)\n",
    "    grid.fit(y[:,None])\n",
    "    kde = grid.best_estimator_ \n",
    "    z_grid = np.linspace(z_min,z_max,10000)\n",
    "    pdf_kde = np.exp(kde.score_samples(z_grid[:,None])) \n",
    "    error = np.max(np.absolute(np.subtract(z,pdf_kde)))\n",
    "    return error"
   ]
  },
  {
   "cell_type": "code",
   "execution_count": 140,
   "metadata": {},
   "outputs": [
    {
     "data": {
      "image/png": "[encoded data removed]",
      "text/plain": [
       "<Figure size 360x93.6 with 3 Axes>"
      ]
     },
     "metadata": {
      "needs_background": "light"
     },
     "output_type": "display_data"
    }
   ],
   "source": [
    "#Description of target and candidate distribution\n",
    "mu=0\n",
    "sigma=2\n",
    "df=2\n",
    "fontsiz=6\n",
    "x=np.linspace(-5,5,10000)\n",
    "\n",
    "f,axes=plt.subplots(1,3,figsize=(5,1.3))\n",
    "plt.rcParams['font.size'] = fontsiz\n",
    "axes[0].plot(x,t.pdf(x,df),c='C1',label=r't (df=%d)' %df,linewidth=1)\n",
    "axes[0].fill_between(x, 0, t.pdf(x,df),alpha=0.3,color='C1')\n",
    "axes[0].plot(x,norm.pdf(x,mu,sigma),c='C2',label='N($\\mu=%1.1f$,$\\sigma$=%d)' %(mu,sigma),linewidth=1)\n",
    "axes[0].fill_between(x, 0, norm.pdf(x,mu,sigma),alpha=0.3,color='C2')\n",
    "axes[0].text(2,0.35,r'$t(df=2)$',color='C1')\n",
    "axes[0].text(2,0.3,r'$N(0,2)$',color='C2')\n",
    "\n",
    "c=3\n",
    "L=10000\n",
    "y,_=rejection_sampling1(L,c,mu,sigma,df)\n",
    "axes[1].plot(x,t.pdf(x,df),c='C1',linewidth=1)\n",
    "axes[1].fill_between(x, 0, t.pdf(x,df),alpha=0.3,color='C1')\n",
    "axes[1].text(2,0.35,r'$t(df=2)$',color='C1')\n",
    "axes[1].text(2,0.3,'Estimate',color='C0')\n",
    "sns.kdeplot(y,shade=True,ax=axes[1],linewidth=1)\n",
    "\n",
    "c=[3,6,9,12]\n",
    "L=10000\n",
    "accept_rate=np.zeros(len(c))\n",
    "for i in range(len(c)):\n",
    "    y,iteration=rejection_sampling1(L,c[i],mu,sigma,df)\n",
    "    accept_rate[i]=L/iteration  \n",
    "axes[2].scatter(c,accept_rate,s=10)\n",
    "axes[2].set_xticks(c)\n",
    "axes[2].set_yticks([0,0.2,0.4])\n",
    "axes[2].set_xlim([2,13])\n",
    "axes[2].set_ylim([0,0.4])\n",
    "axes[2].set_ylabel('Acceptance rate')\n",
    "\n",
    "for i in range(2):\n",
    "    axes[i].set_ylabel('PDF')\n",
    "    axes[i].set_xlim([-5,5])\n",
    "    axes[i].set_ylim([0,0.4])\n",
    "    axes[i].set_yticks(np.linspace(0,0.4,3))\n",
    "    axes[i].set_xticks(np.linspace(-5,5,3))\n",
    "xlabels=[r'$x$',r'$x$',r'$c$']\n",
    "for i in range(3):\n",
    "    axes[i].set_xlabel(xlabels[i],fontsize=fontsiz)\n",
    "    axes[i].spines['right'].set_color('none')\n",
    "    axes[i].spines['top'].set_color('none')\n",
    "plt.tight_layout()\n",
    "axes[0].text(-8.5,0.4,'(a)',fontsize=fontsiz+1)\n",
    "axes[1].text(-8.5,0.4,'(b)',fontsize=fontsiz+1)\n",
    "axes[2].text(-2,0.4,'(c)',fontsize=fontsiz+1)\n",
    "f.savefig('1.2.1D_sampling.jpg', format='jpg', dpi=500,bbox_inches=\"tight\")\n",
    "plt.show()"
   ]
  },
  {
   "cell_type": "markdown",
   "metadata": {},
   "source": [
    "# Multivariate version"
   ]
  },
  {
   "cell_type": "code",
   "execution_count": 128,
   "metadata": {},
   "outputs": [],
   "source": [
    "def plot_contour(X,Y,z,sample):\n",
    "    cmap='YlGn'\n",
    "    sns.kdeplot(sample[0,:],sample[1,:],cmap=cmap,shade=True,ax=axes[1])\n",
    "    axes[0].contourf(X,Y,z,cmap=cmap)\n",
    "    for i in range(2):\n",
    "        axes[i].set_xlim([-3,3])\n",
    "        axes[i].set_ylim([-3,3])\n",
    "        axes[i].set_xticks([-3,0,3])\n",
    "        axes[i].set_yticks([-3,0,3])\n",
    "        axes[i].spines['right'].set_color('none')\n",
    "        axes[i].spines['top'].set_color('none')\n",
    "        axes[i].set_xlabel(r'$x_1$')\n",
    "    axes[0].set_ylabel(r'$x_2$')\n",
    "    axes[1].set_yticklabels([])\n",
    "    axes[1].set_title('Density contour estimate')\n",
    "    axes[0].set_title('True density contour')\n",
    "    \n",
    "@jit\n",
    "def t_pdf(x,mu,df,sigma):\n",
    "    p=np.shape(sigma)[1]\n",
    "    ex=p/2\n",
    "    A=gamma((df+p)/2)\n",
    "    B=gamma(df/2)*(df**ex)*(np.pi**ex)*np.sqrt(np.linalg.det(sigma))\n",
    "    C=(1+((1/df)*np.dot(np.dot((x-mu),np.linalg.inv(sigma)),np.transpose(x-mu))))**(-(df+p)/2)\n",
    "    return A*C/B\n",
    "\n",
    "@jit\n",
    "def twod_ratio(x,df,mu_t,mu_normal,cov_t,cov_normal,c):\n",
    "    return t_pdf(x,mu_t,df,cov_t)/(c*multivariate_normal.pdf(x,mu_normal,cov_normal)) \n",
    "\n",
    "@jit\n",
    "def twod_rejection_sampling_2(df,mu_t,mu_normal,cov_t,cov_normal,c,L):\n",
    "    y=np.zeros([len(mu_t),L+1])\n",
    "    i=j=0\n",
    "    rho=cov_normal[0,1]/np.sqrt(cov_normal[0,0]*cov_normal[1,1])\n",
    "    while i<L:\n",
    "        j+=1\n",
    "        cond_mu = mu_normal[i%2]+np.sqrt(cov_normal[i%2,i%2])*rho*(y[(i+1)%2,i]-mu_normal[(i+1)%2])/np.sqrt(cov_normal[(i+1)%2,(i+1)%2])\n",
    "        x=np.random.normal(cond_mu,np.sqrt(cov_normal[i%2,i%2]*(1-rho**2)),1) \n",
    "        if i%2==0:\n",
    "            prop=np.array([y[0,i],x])\n",
    "        else:\n",
    "            prop=np.array([x,y[1,i]])     \n",
    "        if np.random.uniform(0,1,1)<=twod_ratio(prop,df,mu_t,mu_normal,cov_t,cov_normal,c):\n",
    "                y[:,i+1]=prop\n",
    "                i+=1           \n",
    "    return y,j "
   ]
  },
  {
   "cell_type": "code",
   "execution_count": 154,
   "metadata": {},
   "outputs": [
    {
     "data": {
      "image/png": "[encoded data removed]",
      "text/plain": [
       "<Figure size 360x93.6 with 2 Axes>"
      ]
     },
     "metadata": {
      "needs_background": "light"
     },
     "output_type": "display_data"
    }
   ],
   "source": [
    "mu_t = np.array([0, 0])\n",
    "mu_normal = np.array([0, 0])\n",
    "cov_normal = np.array([[2, 0], [0, 2]])\n",
    "cov_t = np.array([[1, 0], [0, 1]])\n",
    "df=2\n",
    "c=3\n",
    "L=10000\n",
    "start = timeit.default_timer()\n",
    "sample,iteration=twod_rejection_sampling_2(df,mu_t,mu_normal,cov_t,cov_normal,c,L)\n",
    "stop = timeit.default_timer()\n",
    "  \n",
    "fontsiz=6\n",
    "f, axes = plt.subplots(1,2,figsize=(5,1.3))\n",
    "plt.rcParams['font.size'] = fontsiz\n",
    "x = np.linspace(-3, 3, 500)\n",
    "y = np.linspace(-3, 3, 500)\n",
    "X, Y = np.meshgrid(x, y)\n",
    "z=np.zeros([500,500])\n",
    "for i in range(500):\n",
    "    for j in range(500):\n",
    "        z[i,j]= t_pdf([X[i,j],Y[i,j]],mu_t,df,cov_t)  \n",
    "plot_contour(X,Y,z,sample)   \n",
    "plt.tight_layout(w_pad=3)\n",
    "axes[0].text(-4.25,3.5,'(d)',fontsize=fontsiz+1)\n",
    "f.savefig('1.2.2D_sampling.jpg', format='jpg', dpi=500,bbox_inches=\"tight\")"
   ]
  },
  {
   "cell_type": "code",
   "execution_count": null,
   "metadata": {},
   "outputs": [],
   "source": []
  }
 ],
 "metadata": {
  "kernelspec": {
   "display_name": "Python 3",
   "language": "python",
   "name": "python3"
  },
  "language_info": {
   "codemirror_mode": {
    "name": "ipython",
    "version": 3
   },
   "file_extension": ".py",
   "mimetype": "text/x-python",
   "name": "python",
   "nbconvert_exporter": "python",
   "pygments_lexer": "ipython3",
   "version": "3.6.8"
  }
 },
 "nbformat": 4,
 "nbformat_minor": 2
}
